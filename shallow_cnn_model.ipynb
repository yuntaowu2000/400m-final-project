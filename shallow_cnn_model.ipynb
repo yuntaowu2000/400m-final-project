{
 "cells": [
  {
   "cell_type": "code",
   "execution_count": 1,
   "metadata": {},
   "outputs": [],
   "source": [
    "from six.moves import cPickle as pickle\n",
    "import os\n",
    "import pandas as pd\n",
    "import numpy as np\n",
    "import matplotlib.pyplot as plt\n",
    "import torch\n",
    "from torch import cuda\n",
    "import torch.nn as nn\n",
    "from torch.utils.data import TensorDataset, DataLoader, sampler\n",
    "from torch import optim, cuda\n",
    "import matplotlib.pyplot as plt\n",
    "from timeit import default_timer as timer\n",
    "from PIL import Image"
   ]
  },
  {
   "cell_type": "code",
   "execution_count": 2,
   "metadata": {},
   "outputs": [
    {
     "name": "stdout",
     "output_type": "stream",
     "text": [
      "Train on gpu: True\n",
      "1 gpus detected.\n",
      "True False\n"
     ]
    }
   ],
   "source": [
    "# Check whether there is a gpu for cuda\n",
    "train_on_gpu = cuda.is_available()\n",
    "print(f'Train on gpu: {train_on_gpu}')\n",
    "\n",
    "# Number of gpus\n",
    "if train_on_gpu:\n",
    "    gpu_count = cuda.device_count()\n",
    "    print(f'{gpu_count} gpus detected.')\n",
    "    if gpu_count > 1:\n",
    "        multi_gpu = True\n",
    "    else:\n",
    "        multi_gpu = False\n",
    "else:\n",
    "    multi_gpu = False\n",
    "print(train_on_gpu,multi_gpu)"
   ]
  },
  {
   "cell_type": "markdown",
   "metadata": {},
   "source": [
    "## 1. Load the cifar 10 dataset and preprocessing\n",
    "The data is downloaded from https://www.cs.toronto.edu/~kriz/cifar-10-python.tar.gz"
   ]
  },
  {
   "cell_type": "code",
   "execution_count": 3,
   "metadata": {},
   "outputs": [],
   "source": [
    "def load_CIFAR_batch(filename):\n",
    "  \"\"\" load single batch of cifar \"\"\"\n",
    "  with open(filename, 'rb') as f:\n",
    "    datadict = pickle.load(f, encoding=\"latin1\")\n",
    "    X = datadict['data']\n",
    "    Y = datadict['labels']\n",
    "    X = X.reshape(10000, 3, 32, 32).astype(\"float\")\n",
    "    Y = np.array(Y)\n",
    "    return X, Y\n",
    "\n",
    "def load_CIFAR10(root):\n",
    "    test_datafile = os.path.join(root, \"test_batch\")\n",
    "    meta_datafile = os.path.join(root, \"batches.meta\")\n",
    "    \n",
    "    xs = []\n",
    "    ys = []\n",
    "    for b in range(1,6):\n",
    "        train_datafile = os.path.join(root, \"data_batch_{0}\".format(b))\n",
    "        X, Y = load_CIFAR_batch(train_datafile)\n",
    "        xs.append(X)\n",
    "        ys.append(Y)\n",
    "    X_train = np.concatenate(xs)\n",
    "    Y_train = np.concatenate(ys)\n",
    "    \n",
    "    X_test, Y_test = load_CIFAR_batch(test_datafile)\n",
    "\n",
    "    with open(meta_datafile, \"rb\") as f:\n",
    "        # this file includes the label index to name mapping\n",
    "        datadict = pickle.load(f, encoding=\"latin1\")\n",
    "        labels = np.array(datadict[\"label_names\"])\n",
    "\n",
    "    return X_train, Y_train, X_test, Y_test, labels\n",
    "\n",
    "def get_cifar10_data():\n",
    "    \"\"\"\n",
    "    Load the CIFAR-10 dataset from disk and perform preprocessing to prepare\n",
    "    it for classifiers.\n",
    "    \"\"\"\n",
    "    # Load the raw CIFAR-100 data\n",
    "    cifar10_dir = \"./datasets/\"\n",
    "    X_train, Y_train, X_test, Y_test, _ = load_CIFAR10(cifar10_dir)\n",
    "\n",
    "    X_train = X_train.astype(\"float\")\n",
    "    X_test = X_test.astype(\"float\")\n",
    "\n",
    "    # subtract the mean\n",
    "    mean = np.mean(X_train, axis=0)\n",
    "    X_train -= mean\n",
    "    X_test -= mean\n",
    "\n",
    "    Y_train = np.squeeze(Y_train)\n",
    "    Y_test = np.squeeze(Y_test)\n",
    "\n",
    "    print(\"X (training)   shape:\", X_train.shape)\n",
    "    print(\"Y (training)   shape:\", Y_train.shape)\n",
    "    print(\"X (test) shape:\", X_test.shape)\n",
    "    print(\"Y (test) shape:\", Y_test.shape)\n",
    "\n",
    "    return X_train, Y_train, X_test, Y_test"
   ]
  },
  {
   "cell_type": "code",
   "execution_count": 5,
   "metadata": {},
   "outputs": [
    {
     "name": "stdout",
     "output_type": "stream",
     "text": [
      "X (training)   shape: (50000, 3, 32, 32)\n",
      "Y (training)   shape: (50000,)\n",
      "X (test) shape: (10000, 3, 32, 32)\n",
      "Y (test) shape: (10000,)\n"
     ]
    }
   ],
   "source": [
    "X_train, Y_train, X_test, Y_test = get_cifar10_data()"
   ]
  },
  {
   "cell_type": "markdown",
   "metadata": {},
   "source": [
    "Convert the datasets to tensors with predefined batch size  "
   ]
  },
  {
   "cell_type": "code",
   "execution_count": 6,
   "metadata": {},
   "outputs": [
    {
     "data": {
      "text/plain": [
       "(torch.Size([16, 3, 32, 32]), torch.Size([16]))"
      ]
     },
     "execution_count": 6,
     "metadata": {},
     "output_type": "execute_result"
    }
   ],
   "source": [
    "BATCH_SIZE = 16\n",
    "data = {\n",
    "    \"train\": TensorDataset(torch.from_numpy(X_train).float(), torch.from_numpy(Y_train).to(torch.long)),\n",
    "    \"test\": TensorDataset(torch.from_numpy(X_test).float(), torch.from_numpy(Y_test).to(torch.long)),\n",
    "    \n",
    "}\n",
    "\n",
    "dataloaders = {\n",
    "    \"train\": DataLoader(data[\"train\"], batch_size=BATCH_SIZE, shuffle=True, num_workers=2),\n",
    "    \"valid\": DataLoader(data[\"test\"], batch_size=BATCH_SIZE, shuffle=False, num_workers=2)\n",
    "}\n",
    "\n",
    "# Iterate through the dataloader once\n",
    "trainiter = iter(dataloaders['train'])\n",
    "features, labels = next(trainiter)\n",
    "features.shape, labels.shape"
   ]
  },
  {
   "cell_type": "markdown",
   "metadata": {},
   "source": [
    "## 2. Define a shallow model\n",
    "This model is similar to what I have used in HW4"
   ]
  },
  {
   "cell_type": "code",
   "execution_count": 4,
   "metadata": {},
   "outputs": [],
   "source": [
    "class MyModel(nn.Module):\n",
    "    def __init__(self, num_classes):\n",
    "        super().__init__()\n",
    "        self.conv_part = nn.Sequential(\n",
    "            nn.Conv2d(in_channels=3, out_channels=16, kernel_size=3, padding=1),\n",
    "            nn.Conv2d(in_channels=16, out_channels=32, kernel_size=3, padding=1),\n",
    "            nn.Conv2d(in_channels=32, out_channels=64, kernel_size=3, padding=1),\n",
    "            nn.MaxPool2d(kernel_size=2, stride=2),\n",
    "        )\n",
    "        self.flatten = nn.Flatten()\n",
    "        self.linear_part = nn.Sequential(\n",
    "            nn.Linear(64*16*16, 128, bias=True),\n",
    "            nn.ReLU(),\n",
    "            nn.Linear(128, 64, bias=True),\n",
    "            nn.ReLU(),\n",
    "            nn.Linear(64, 32, bias=True),\n",
    "            nn.ReLU(),\n",
    "            nn.Linear(32, num_classes, bias=True),\n",
    "        )\n",
    "    \n",
    "    def forward(self, x):\n",
    "        x = self.conv_part(x)\n",
    "        x = self.flatten(x)\n",
    "        x = self.linear_part(x)\n",
    "        return x"
   ]
  },
  {
   "cell_type": "markdown",
   "metadata": {},
   "source": [
    "## 3. Train the network\n",
    "The training code is adapted from HW4"
   ]
  },
  {
   "cell_type": "code",
   "execution_count": 8,
   "metadata": {},
   "outputs": [],
   "source": [
    "def train(model,\n",
    "          criterion,\n",
    "          optimizer,\n",
    "          train_loader,\n",
    "          valid_loader,\n",
    "          save_file_name,\n",
    "          max_epochs_stop=3,\n",
    "          n_epochs=10,\n",
    "          print_every=1):\n",
    "    \"\"\"Train a PyTorch Model\n",
    "\n",
    "    Params\n",
    "    --------\n",
    "        model (PyTorch model): cnn to train\n",
    "        criterion (PyTorch loss): objective to minimize\n",
    "        optimizer (PyTorch optimizier): optimizer to compute gradients of model parameters\n",
    "        train_loader (PyTorch dataloader): training dataloader to iterate through\n",
    "        valid_loader (PyTorch dataloader): validation dataloader used for early stopping\n",
    "        save_file_name (str ending in '.pt'): file path to save the model state dict\n",
    "        max_epochs_stop (int): maximum number of epochs with no improvement in validation loss for early stopping\n",
    "        n_epochs (int): maximum number of training epochs\n",
    "        print_every (int): frequency of epochs to print training stats\n",
    "\n",
    "    Returns\n",
    "    --------\n",
    "        model (PyTorch model): trained cnn with best weights\n",
    "        history (DataFrame): history of train and validation loss and accuracy\n",
    "    \"\"\"\n",
    "\n",
    "    # Early stopping intialization\n",
    "    epochs_no_improve = 0\n",
    "    valid_loss_min = np.Inf\n",
    "\n",
    "    valid_best_acc = 0\n",
    "    history = []\n",
    "\n",
    "    # Number of epochs already trained (if using loaded in model weights)\n",
    "    try:\n",
    "        print(f'Model has been trained for: {model.epochs} epochs.\\n')\n",
    "    except:\n",
    "        model.epochs = 0\n",
    "        print(f'Starting Training from Scratch.\\n')\n",
    "\n",
    "    overall_start = timer()\n",
    "\n",
    "    # Main loop\n",
    "    for epoch in range(n_epochs):\n",
    "\n",
    "        # keep track of training and validation loss each epoch\n",
    "        train_loss = 0.0\n",
    "        valid_loss = 0.0\n",
    "\n",
    "        train_acc = 0\n",
    "        valid_acc = 0\n",
    "\n",
    "        # Set to training\n",
    "        model.train()\n",
    "\n",
    "        start = timer()\n",
    "\n",
    "        # Training loop\n",
    "        for ii, (data, target) in enumerate(train_loader):\n",
    "            \n",
    "            # Tensors to gpu, both model parameters, data, and target need to be tensors.\n",
    "            model.cuda()\n",
    "            data = data.cuda()\n",
    "            target = target.cuda()\n",
    "\n",
    "            # Clear gradients\n",
    "            optimizer.zero_grad()\n",
    "\n",
    "            # Forward path\n",
    "            output = model.forward(data)\n",
    "\n",
    "            # Loss function \n",
    "            loss = criterion(output, target)\n",
    "\n",
    "            # Backward path (backpropagation)\n",
    "            loss.backward()\n",
    "\n",
    "            # Update the parameters\n",
    "            optimizer.step()\n",
    "\n",
    "            # Track train loss by multiplying average loss by number of examples in batch\n",
    "            train_loss += loss.item() * data.size(0)\n",
    "\n",
    "            # Calculate accuracy by finding max log probability\n",
    "            _, pred = torch.max(output, dim=1)\n",
    "            correct_tensor = pred.eq(target.data.view_as(pred))\n",
    "\n",
    "            # Need to convert correct tensor from int to float to average\n",
    "            accuracy = torch.mean(correct_tensor.type(torch.FloatTensor))\n",
    "\n",
    "            # Multiply average accuracy times the number of examples in batch\n",
    "            train_acc += accuracy.item() * data.size(0)\n",
    "\n",
    "            # Track training progress\n",
    "            print(\n",
    "                f'Epoch: {epoch}\\t{100 * (ii + 1) / len(train_loader):.2f}% complete. {timer() - start:.2f} seconds elapsed in epoch.',\n",
    "                end='\\r')\n",
    "\n",
    "        # After training loops ends, start validation\n",
    "        else:\n",
    "            model.epochs += 1\n",
    "\n",
    "            # Don't need to keep track of gradients\n",
    "            with torch.no_grad():\n",
    "\n",
    "                # Set to evaluation mode\n",
    "                model.eval()\n",
    "\n",
    "                # Validation loop\n",
    "                for data, target in valid_loader:\n",
    "                    # Tensors to gpu\n",
    "                    model.cuda()\n",
    "                    data = data.cuda()\n",
    "                    target = target.cuda()\n",
    "\n",
    "                    # Forward path\n",
    "                    output = model.forward(data)\n",
    "\n",
    "                    # Validation loss computation\n",
    "                    loss = criterion(output, target)\n",
    "                    # Multiply average loss times the number of examples in batch\n",
    "                    valid_loss += loss.item() * data.size(0)\n",
    "\n",
    "                    # Calculate validation accuracy\n",
    "                    _, pred = torch.max(output, dim=1)\n",
    "                    correct_tensor = pred.eq(target.data.view_as(pred))\n",
    "                    accuracy = torch.mean(\n",
    "                    correct_tensor.type(torch.FloatTensor))\n",
    "\n",
    "                    # Multiply average accuracy times the number of examples\n",
    "                    valid_acc += accuracy.item() * data.size(0)\n",
    "\n",
    "\n",
    "                # Calculate average losses and Calculate average accuracy\n",
    "                train_loss = train_loss / len(train_loader.dataset)\n",
    "                valid_loss = valid_loss / len(valid_loader.dataset)\n",
    "\n",
    "                train_acc = train_acc / len(train_loader.dataset)\n",
    "                valid_acc = valid_acc / len(valid_loader.dataset)\n",
    "\n",
    "                history.append([train_loss, valid_loss, train_acc, valid_acc])\n",
    "\n",
    "                # Print training and validation results\n",
    "                if (epoch + 1) % print_every == 0:\n",
    "                    print(\n",
    "                        f'\\nEpoch: {epoch} \\tTraining Loss: {train_loss:.4f} \\tValidation Loss: {valid_loss:.4f}'\n",
    "                    )\n",
    "                    print(\n",
    "                        f'\\t\\tTraining Accuracy: {100 * train_acc:.2f}%\\t Validation Accuracy: {100 * valid_acc:.2f}%'\n",
    "                    )\n",
    "\n",
    "                # Save the model if validation loss decreases\n",
    "                if valid_loss < valid_loss_min:\n",
    "                    torch.save(model.state_dict(), save_file_name)\n",
    "\n",
    "                    # Track improvement\n",
    "                    epochs_no_improve = 0\n",
    "                    valid_loss_min = valid_loss\n",
    "                    valid_best_acc = valid_acc\n",
    "                    best_epoch = epoch\n",
    "\n",
    "                # Otherwise increment count of epochs with no improvement\n",
    "                else:\n",
    "                    epochs_no_improve += 1\n",
    "                    # Trigger early stopping\n",
    "                    if epochs_no_improve >= max_epochs_stop:\n",
    "                        print(\n",
    "                            f'\\nEarly Stopping! Total epochs: {epoch}. Best epoch: {best_epoch} with loss: {valid_loss_min:.2f} and acc: {100 * valid_best_acc:.2f}%'\n",
    "                        )\n",
    "                        total_time = timer() - overall_start\n",
    "                        print(\n",
    "                            f'{total_time:.2f} total seconds elapsed. {total_time / (epoch+1):.2f} seconds per epoch.'\n",
    "                        )\n",
    "\n",
    "                        # Load the best state dict\n",
    "                        # You can use model.load_state_dict()\n",
    "                        model.load_state_dict(torch.load(save_file_name))\n",
    "\n",
    "                        # Attach the optimizer\n",
    "                        model.optimizer = optimizer\n",
    "\n",
    "                        # Format history\n",
    "                        history = pd.DataFrame(\n",
    "                            history,\n",
    "                            columns=[\n",
    "                                'train_loss', 'valid_loss', 'train_acc',\n",
    "                                'valid_acc'\n",
    "                            ])\n",
    "                        return model, history\n",
    "\n",
    "    # Attach the optimizer\n",
    "    model.optimizer = optimizer\n",
    "    # Record overall time and print out stats\n",
    "    total_time = timer() - overall_start\n",
    "    print(\n",
    "        f'\\nBest epoch: {best_epoch} with loss: {valid_loss_min:.2f} and acc: {100 * valid_best_acc:.2f}%'\n",
    "    )\n",
    "    print(\n",
    "        f'{total_time:.2f} total seconds elapsed. {total_time / (epoch+1):.2f} seconds per epoch.'\n",
    "    )\n",
    "    # Format history\n",
    "    history = pd.DataFrame(\n",
    "        history,\n",
    "        columns=['train_loss', 'valid_loss', 'train_acc', 'valid_acc'])\n",
    "    return model, history"
   ]
  },
  {
   "cell_type": "code",
   "execution_count": 5,
   "metadata": {},
   "outputs": [],
   "source": [
    "num_classes = 10\n",
    "model = MyModel(num_classes)\n",
    "criterion = nn.CrossEntropyLoss()\n",
    "optimizer = optim.SGD(model.parameters(), lr=0.01)"
   ]
  },
  {
   "cell_type": "code",
   "execution_count": 10,
   "metadata": {},
   "outputs": [
    {
     "name": "stdout",
     "output_type": "stream",
     "text": [
      "Starting Training from Scratch.\n",
      "\n",
      "Epoch: 0\t100.00% complete. 59.10 seconds elapsed in epoch.\n",
      "Epoch: 0 \tTraining Loss: 1.4854 \tValidation Loss: 1.1945\n",
      "\t\tTraining Accuracy: 47.28%\t Validation Accuracy: 59.32%\n",
      "Epoch: 1\t100.00% complete. 60.24 seconds elapsed in epoch.\n",
      "Epoch: 1 \tTraining Loss: 1.1276 \tValidation Loss: 1.0850\n",
      "\t\tTraining Accuracy: 61.04%\t Validation Accuracy: 62.32%\n",
      "Epoch: 2\t100.00% complete. 51.08 seconds elapsed in epoch.\n",
      "Epoch: 2 \tTraining Loss: 0.9840 \tValidation Loss: 1.1309\n",
      "\t\tTraining Accuracy: 66.29%\t Validation Accuracy: 61.43%\n",
      "Epoch: 3\t100.00% complete. 62.38 seconds elapsed in epoch.\n",
      "Epoch: 3 \tTraining Loss: 0.8808 \tValidation Loss: 1.1106\n",
      "\t\tTraining Accuracy: 69.81%\t Validation Accuracy: 62.41%\n",
      "Epoch: 4\t100.00% complete. 50.59 seconds elapsed in epoch.\n",
      "Epoch: 4 \tTraining Loss: 0.7941 \tValidation Loss: 1.1051\n",
      "\t\tTraining Accuracy: 72.98%\t Validation Accuracy: 64.31%\n",
      "Epoch: 5\t100.00% complete. 50.65 seconds elapsed in epoch.\n",
      "Epoch: 5 \tTraining Loss: 0.7229 \tValidation Loss: 1.1775\n",
      "\t\tTraining Accuracy: 75.38%\t Validation Accuracy: 63.67%\n",
      "Epoch: 6\t100.00% complete. 48.10 seconds elapsed in epoch.\n",
      "Epoch: 6 \tTraining Loss: 0.6613 \tValidation Loss: 1.1051\n",
      "\t\tTraining Accuracy: 77.41%\t Validation Accuracy: 65.93%\n",
      "\n",
      "Early Stopping! Total epochs: 6. Best epoch: 1 with loss: 1.09 and acc: 62.32%\n",
      "434.46 total seconds elapsed. 62.07 seconds per epoch.\n"
     ]
    }
   ],
   "source": [
    "save_file_name = f'cifar_my_model_best_model.pt'\n",
    "train_on_gpu = cuda.is_available()\n",
    "\n",
    "model, history = train(model,\n",
    "    criterion,\n",
    "    optimizer,\n",
    "    dataloaders['train'], \n",
    "    dataloaders['valid'],\n",
    "    save_file_name=save_file_name,\n",
    "    max_epochs_stop=5,\n",
    "    n_epochs=500,\n",
    "    print_every=1)"
   ]
  },
  {
   "cell_type": "code",
   "execution_count": 11,
   "metadata": {},
   "outputs": [
    {
     "data": {
      "image/png": "[encoded data removed]",
      "text/plain": [
       "<Figure size 576x432 with 1 Axes>"
      ]
     },
     "metadata": {
      "needs_background": "light"
     },
     "output_type": "display_data"
    }
   ],
   "source": [
    "plt.figure(figsize=(8, 6))\n",
    "for c in ['train_loss', 'valid_loss']:\n",
    "    plt.plot(\n",
    "        history[c], label=c)\n",
    "plt.legend()\n",
    "plt.xlabel('Epoch')\n",
    "plt.ylabel('Average Negative Log Likelihood')\n",
    "plt.title('Training and Validation Losses')\n",
    "plt.show()"
   ]
  },
  {
   "cell_type": "code",
   "execution_count": 12,
   "metadata": {},
   "outputs": [
    {
     "data": {
      "image/png": "[encoded data removed]",
      "text/plain": [
       "<Figure size 576x432 with 1 Axes>"
      ]
     },
     "metadata": {
      "needs_background": "light"
     },
     "output_type": "display_data"
    }
   ],
   "source": [
    "plt.figure(figsize=(8, 6))\n",
    "for c in ['train_acc', 'valid_acc']:\n",
    "    plt.plot(\n",
    "        100 * history[c], label=c)\n",
    "plt.legend()\n",
    "plt.xlabel('Epoch')\n",
    "plt.ylabel('Average Accuracy')\n",
    "plt.title('Training and Validation Accuracy')\n",
    "plt.show()"
   ]
  },
  {
   "cell_type": "markdown",
   "metadata": {},
   "source": [
    "## 4. Visualize the feature importance using saliency map\n",
    "In this section, I will use the saliency map to see what features the neural network is using to predict the classification. This helps us understand if the model is learning the correct features."
   ]
  },
  {
   "cell_type": "code",
   "execution_count": 6,
   "metadata": {},
   "outputs": [],
   "source": [
    "def get_cifar10_data_unmodified():\n",
    "    # Load the raw CIFAR-100 data\n",
    "    cifar10_dir = \"./datasets/\"\n",
    "    X_train, Y_train, X_test, Y_test, labels = load_CIFAR10(cifar10_dir)\n",
    "\n",
    "    X_train = X_train.astype(\"float\")\n",
    "    X_test = X_test.astype(\"float\")\n",
    "\n",
    "    # although we don't need to subtract the mean now, we record it for preprocessing the data to feed into the model\n",
    "    x_mean = np.mean(X_train, axis=0)\n",
    "\n",
    "    Y_train = np.squeeze(Y_train)\n",
    "    Y_test = np.squeeze(Y_test)\n",
    "\n",
    "    print(\"X (training)   shape:\", X_train.shape)\n",
    "    print(\"Y (training)   shape:\", Y_train.shape)\n",
    "    print(\"X (test) shape:\", X_test.shape)\n",
    "    print(\"Y (test) shape:\", Y_test.shape)\n",
    "\n",
    "    return X_train, Y_train, X_test, Y_test, labels, x_mean"
   ]
  },
  {
   "cell_type": "code",
   "execution_count": 7,
   "metadata": {},
   "outputs": [],
   "source": [
    "def plot_saliency(labels, img_idx, true_label_idx, original_img, x_mean, model):\n",
    "    # transform the image to torch.Tensor, subtract the mean\n",
    "    sub_img = original_img - x_mean\n",
    "    sub_img = np.reshape(sub_img, (1, sub_img.shape[0], sub_img.shape[1], sub_img.shape[2]))\n",
    "    input = torch.from_numpy(sub_img).float().cuda()\n",
    "    \n",
    "    # we need the gradient with respect to the input\n",
    "    input.requires_grad = True\n",
    "\n",
    "    y_pred = model(input)\n",
    "\n",
    "    score, indices = torch.max(y_pred, dim=1)\n",
    "    # back propagate the score to get gradients\n",
    "    score.backward()\n",
    "    # find the maximum gradients\n",
    "    max_grad, _ = torch.max(torch.abs(input.grad[0]), dim=0)\n",
    "    # normalize to [0,1]\n",
    "    max_grad = (max_grad - max_grad.min()) / (max_grad.max() - max_grad.min())\n",
    "    max_grad = max_grad.cpu().numpy()\n",
    "    max_grad_constrained = np.where(max_grad >= 0.5, 1, 0)\n",
    "\n",
    "    plt.figure(figsize=(15, 15))\n",
    "    plt.subplot(1, 4, 1)\n",
    "    plt.title(\"img {0} label {1} \\n predicted as {2}\".format(img_idx, labels[true_label_idx], labels[indices.detach().cpu().numpy()[0]]))\n",
    "    # the original image data is C*H*W, but for plotting, we need H*W*C\n",
    "    arr = np.transpose(X_test[img_idx], (1, 2, 0))\n",
    "    im = Image.fromarray(np.array(arr, dtype=np.uint8))\n",
    "    plt.imshow(im)\n",
    "\n",
    "    plt.subplot(1, 4, 2)\n",
    "    # plot the saliency map\n",
    "    plt.title(\"saliency map\")\n",
    "    plt.imshow(max_grad, cmap=plt.cm.hot)\n",
    "\n",
    "    plt.subplot(1, 4, 3)\n",
    "    # plot the constrained saliency map for better visualization\n",
    "    plt.title(\"saliency map 2\")\n",
    "    plt.imshow(max_grad_constrained, cmap=plt.cm.hot)\n",
    "\n",
    "    plt.subplot(1, 4, 4)\n",
    "    plt.title(\"composed saliency + original image\")\n",
    "    max_grad_idx_y, max_grad_idx_x = np.where(max_grad >= 0.5)\n",
    "    plt.scatter(max_grad_idx_x, max_grad_idx_y)\n",
    "    plt.imshow(im)\n",
    "    plt.show()"
   ]
  },
  {
   "cell_type": "code",
   "execution_count": 8,
   "metadata": {},
   "outputs": [
    {
     "name": "stdout",
     "output_type": "stream",
     "text": [
      "X (training)   shape: (50000, 3, 32, 32)\n",
      "Y (training)   shape: (50000,)\n",
      "X (test) shape: (10000, 3, 32, 32)\n",
      "Y (test) shape: (10000,)\n"
     ]
    }
   ],
   "source": [
    "X_train, Y_train, X_test, Y_test, labels, x_mean = get_cifar10_data_unmodified()"
   ]
  },
  {
   "cell_type": "markdown",
   "metadata": {},
   "source": [
    "Load and set the model to be in evaluation model  \n",
    "Also ignore all the gradients with respect to weights"
   ]
  },
  {
   "cell_type": "code",
   "execution_count": 9,
   "metadata": {},
   "outputs": [],
   "source": [
    "num_classes = 10\n",
    "model = MyModel(num_classes)\n",
    "model.load_state_dict(torch.load('cifar_my_model_best_model.pt'))\n",
    "model.optimizer = optimizer\n",
    "model.cuda()\n",
    "model.eval()\n",
    "for param in model.parameters():\n",
    "    param.requires_grad = False"
   ]
  },
  {
   "cell_type": "markdown",
   "metadata": {},
   "source": [
    "Get a list of failure images in the test set"
   ]
  },
  {
   "cell_type": "code",
   "execution_count": 17,
   "metadata": {},
   "outputs": [
    {
     "name": "stdout",
     "output_type": "stream",
     "text": [
      "4677\n"
     ]
    }
   ],
   "source": [
    "valid_data = TensorDataset(torch.from_numpy(X_test).float(), torch.from_numpy(Y_test).to(torch.long))\n",
    "valid_data = DataLoader(valid_data, batch_size=1, shuffle=False, num_workers=2)\n",
    "idx = 0\n",
    "failed_pics = []\n",
    "for data, target in valid_data:\n",
    "    # Tensors to gpu\n",
    "    data = data.cuda()\n",
    "    target = target.cuda()\n",
    "\n",
    "    # Forward path\n",
    "    output = model.forward(data)\n",
    "    _, pred = torch.max(output, dim=1)\n",
    "    pred = pred.detach().cpu().numpy()[0]\n",
    "    if pred != Y_test[idx]:\n",
    "        failed_pics.append(idx)\n",
    "    \n",
    "    idx += 1\n",
    "\n",
    "print(len(failed_pics))"
   ]
  },
  {
   "cell_type": "code",
   "execution_count": 11,
   "metadata": {},
   "outputs": [
    {
     "data": {
      "image/png": "[encoded data removed]",
      "text/plain": [
       "<Figure size 1080x1080 with 4 Axes>"
      ]
     },
     "metadata": {
      "needs_background": "light"
     },
     "output_type": "display_data"
    }
   ],
   "source": [
    "# failed_idx = failed_pics[0]\n",
    "plot_saliency(labels, 3, Y_test[3], X_test[3], x_mean, model)"
   ]
  },
  {
   "cell_type": "code",
   "execution_count": 10,
   "metadata": {},
   "outputs": [
    {
     "data": {
      "image/png": "[encoded data removed]",
      "text/plain": [
       "<Figure size 1080x1080 with 4 Axes>"
      ]
     },
     "metadata": {
      "needs_background": "light"
     },
     "output_type": "display_data"
    }
   ],
   "source": [
    "plot_saliency(labels, 6, Y_test[6], X_test[6], x_mean, model)"
   ]
  }
 ],
 "metadata": {
  "interpreter": {
   "hash": "caa14dab57e6d1e9f65d59d3414e081e45893933dca8b03160ba812b582686cc"
  },
  "kernelspec": {
   "display_name": "Python 3.8.10 64-bit (windows store)",
   "language": "python",
   "name": "python3"
  },
  "language_info": {
   "codemirror_mode": {
    "name": "ipython",
    "version": 3
   },
   "file_extension": ".py",
   "mimetype": "text/x-python",
   "name": "python",
   "nbconvert_exporter": "python",
   "pygments_lexer": "ipython3",
   "version": "3.8.10"
  },
  "orig_nbformat": 4
 },
 "nbformat": 4,
 "nbformat_minor": 2
}
